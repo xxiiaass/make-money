{
 "cells": [
  {
   "cell_type": "code",
   "execution_count": 4,
   "id": "69a49c2a-d1f3-4a7e-bb48-b699477d0d8c",
   "metadata": {},
   "outputs": [
    {
     "name": "stdout",
     "output_type": "stream",
     "text": [
      "Successfully saved data for stock: sz.000559\n",
      "Successfully saved data for stock: sh.688111\n",
      "Successfully saved data for stock: sh.601628\n",
      "Successfully saved data for stock: sh.600428\n",
      "Successfully saved data for stock: sz.002032\n",
      "Successfully saved data for stock: sz.000410\n",
      "Successfully saved data for stock: sh.601328\n",
      "Successfully saved data for stock: sh.600085\n",
      "Successfully saved data for stock: sz.300866\n",
      "Successfully saved data for stock: sz.300769\n"
     ]
    }
   ],
   "source": [
    "import os\n",
    "import pandas as pd\n",
    "import akshare as ak\n",
    "\n",
    "start_date = '20080101'\n",
    "end_date = '20241031'\n",
    "\n",
    "# 定义目录路径\n",
    "hs300_directory = 'hs300_stocks'\n",
    "amount_directory = 'stock_amount'\n",
    "market_value_directory = 'stock_market_value'\n",
    "\n",
    "# 创建保存数据的文件夹\n",
    "if not os.path.exists(amount_directory):\n",
    "    os.makedirs(amount_directory)\n",
    "if not os.path.exists(market_value_directory):\n",
    "    os.makedirs(market_value_directory)\n",
    "\n",
    "# 读取所有沪深300成分股数据并去重\n",
    "all_stocks = set()\n",
    "for file_name in os.listdir(hs300_directory):\n",
    "    file_path = os.path.join(hs300_directory, file_name)\n",
    "    df = pd.read_csv(file_path)\n",
    "    all_stocks.update(df['stock_code'].tolist())\n",
    "\n",
    "# 获取每只股票的历史成交金额和历史总市值数据并保存到文件\n",
    "for stock in all_stocks:\n",
    "    try:\n",
    "        # 移除股票代码中的前缀\n",
    "        stock_code = stock[3:]\n",
    "        \n",
    "        # 获取历史成交金额数据\n",
    "        amount_df = ak.stock_zh_a_hist(symbol=stock_code, start_date=start_date, end_date=end_date, adjust=\"qfq\")\n",
    "        amount_file_path = os.path.join(amount_directory, f'{stock}_amount.csv')\n",
    "        amount_df.to_csv(amount_file_path, index=False)\n",
    "        \n",
    "        # 获取历史总市值数据\n",
    "        market_value_df = ak.stock_a_indicator_lg(stock_code)\n",
    "        market_value_file_path = os.path.join(market_value_directory, f'{stock}_market_value.csv')\n",
    "        market_value_df.to_csv(market_value_file_path, index=False)\n",
    "        \n",
    "        print(f'Successfully saved data for stock: {stock}')\n",
    "    except Exception as e:\n",
    "        print(f'Failed to get data for stock: {stock}, error: {e}')"
   ]
  },
  {
   "cell_type": "code",
   "execution_count": null,
   "id": "d4e1e11f-443c-4ed6-adfc-d20da2cd4544",
   "metadata": {},
   "outputs": [],
   "source": []
  }
 ],
 "metadata": {
  "kernelspec": {
   "display_name": "Python 3 (ipykernel)",
   "language": "python",
   "name": "python3"
  },
  "language_info": {
   "codemirror_mode": {
    "name": "ipython",
    "version": 3
   },
   "file_extension": ".py",
   "mimetype": "text/x-python",
   "name": "python",
   "nbconvert_exporter": "python",
   "pygments_lexer": "ipython3",
   "version": "3.8.12"
  }
 },
 "nbformat": 4,
 "nbformat_minor": 5
}
