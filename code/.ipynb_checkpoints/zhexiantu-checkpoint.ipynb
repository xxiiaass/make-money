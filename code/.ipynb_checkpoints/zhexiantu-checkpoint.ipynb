{
 "cells": [
  {
   "cell_type": "code",
   "execution_count": null,
   "id": "1715ee78-0001-4742-bda9-ef512bba2225",
   "metadata": {},
   "outputs": [],
   "source": [
    "%matplotlib inline\n",
    "import numpy as np\n",
    "import matplotlib.pyplot as plt\n",
    "plt.rcParams['font.sans-serif'] = ['SimHei']   # 解决图表中文乱码问题\n",
    "plt.rcParams['axes.unicode_minus'] = False     # 用来正常显示负号\n",
    "\n",
    "x = np.linspace(-5, 5)\n",
    "y1 = x * 2\n",
    "y2 = x * 3\n",
    "# 设置X轴标签\n",
    "plt.xlabel(\"X值\", size=15)\n",
    "# 设置Y轴标签\n",
    "plt.ylabel(\"Y值\", size=15)\n",
    "# 设置标题\n",
    "plt.title(\"线性方程\")\n",
    "# 显示网格\n",
    "plt.grid()\n",
    "# 绘制图例\n",
    "plt.plot(x, y1, label=\"y=2x\")\n",
    "plt.plot(x, y2, label=\"y=3x\", linestyle=\"dashed\")  # deshed-虚线\n",
    "# 显示图例\n",
    "plt.legend()\n",
    "plt.show()"
   ]
  }
 ],
 "metadata": {
  "kernelspec": {
   "display_name": "Python 3 (ipykernel)",
   "language": "python",
   "name": "python3"
  },
  "language_info": {
   "codemirror_mode": {
    "name": "ipython",
    "version": 3
   },
   "file_extension": ".py",
   "mimetype": "text/x-python",
   "name": "python",
   "nbconvert_exporter": "python",
   "pygments_lexer": "ipython3",
   "version": "3.8.12"
  }
 },
 "nbformat": 4,
 "nbformat_minor": 5
}
