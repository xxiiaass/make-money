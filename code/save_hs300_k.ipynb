{
 "cells": [
  {
   "cell_type": "code",
   "execution_count": 10,
   "id": "afea218e-001f-4a10-8647-655069723a1a",
   "metadata": {},
   "outputs": [
    {
     "name": "stdout",
     "output_type": "stream",
     "text": [
      "login success!\n",
      "query_history_k_data_plus respond error_code:0\n",
      "query_history_k_data_plus respond  error_msg:success\n",
      "            date       code       open       high        low      close  \\\n",
      "0     2014-01-02  sh.000300  2323.4330  2325.9910  2310.6530  2321.9780   \n",
      "1     2014-01-03  sh.000300  2311.9680  2314.8360  2280.8870  2290.7790   \n",
      "2     2014-01-06  sh.000300  2286.3710  2286.3710  2229.3340  2238.6370   \n",
      "3     2014-01-07  sh.000300  2222.3060  2246.7910  2218.6470  2238.0010   \n",
      "4     2014-01-08  sh.000300  2240.6350  2262.5840  2228.4180  2241.9110   \n",
      "...          ...        ...        ...        ...        ...        ...   \n",
      "2627  2024-10-24  sh.000300  3950.8987  3957.9832  3914.0887  3928.8334   \n",
      "2628  2024-10-25  sh.000300  3931.3205  3992.8918  3921.9396  3956.4210   \n",
      "2629  2024-10-28  sh.000300  3953.1063  3964.1569  3917.2042  3964.1569   \n",
      "2630  2024-10-29  sh.000300  3970.0080  3991.3091  3921.5795  3924.6490   \n",
      "2631  2024-10-30  sh.000300  3904.1595  3926.0581  3864.3051  3889.4487   \n",
      "\n",
      "       preclose       volume             amount     pctChg  \n",
      "0     2330.0260   4519429100   49012211124.0000  -0.345398  \n",
      "1     2321.9780   5978264500   57739709924.0000  -1.343638  \n",
      "2     2290.7790   6630040300   59979360128.0000  -2.276173  \n",
      "3     2238.6370   4375310300   42565648108.0000  -0.028410  \n",
      "4     2238.0010   5134885400   50691488898.0000   0.174706  \n",
      "...         ...          ...                ...        ...  \n",
      "2627  3973.2089  17472406200  340486884485.3000  -1.116868  \n",
      "2628  3928.8334  21069488500  412231378430.4000   0.702183  \n",
      "2629  3956.4210  21616041500  390450182338.0000   0.195528  \n",
      "2630  3964.1569  21729398400  429625020404.8000  -0.996628  \n",
      "2631  3924.6490  21943662600  385010582233.2000  -0.896903  \n",
      "\n",
      "[2632 rows x 10 columns]\n",
      "logout success!\n"
     ]
    },
    {
     "data": {
      "text/plain": [
       "<baostock.data.resultset.ResultData at 0x7fffacd0e1c0>"
      ]
     },
     "execution_count": 10,
     "metadata": {},
     "output_type": "execute_result"
    }
   ],
   "source": [
    "import baostock as bs\n",
    "import pandas as pd\n",
    "\n",
    "# http://baostock.com/baostock/index.php/%E6%8C%87%E6%95%B0%E6%95%B0%E6%8D%AE\n",
    "# 登陆系统\n",
    "lg = bs.login()\n",
    "\n",
    "rs = bs.query_history_k_data_plus(\"sh.000300\",\n",
    "    \"date,code,open,high,low,close,preclose,volume,amount,pctChg\",\n",
    "    start_date='2014-01-01', end_date='2024-10-30', frequency=\"d\")\n",
    "print('query_history_k_data_plus respond error_code:'+rs.error_code)\n",
    "print('query_history_k_data_plus respond  error_msg:'+rs.error_msg)\n",
    "\n",
    "# 打印结果集\n",
    "data_list = []\n",
    "while (rs.error_code == '0') & rs.next():\n",
    "    # 获取一条记录，将记录合并在一起\n",
    "    data_list.append(rs.get_row_data())\n",
    "result = pd.DataFrame(data_list, columns=rs.fields)\n",
    "# 结果集输出到csv文件\n",
    "result.to_csv(\"./hs300_k.csv\", index=False)\n",
    "print(result)\n",
    "\n",
    "# 登出系统\n",
    "bs.logout()"
   ]
  },
  {
   "cell_type": "code",
   "execution_count": null,
   "id": "485b6ff0-bf04-43b0-bae1-f7df7d494905",
   "metadata": {},
   "outputs": [],
   "source": []
  },
  {
   "cell_type": "code",
   "execution_count": null,
   "id": "aaf0bafc-f211-4034-ad5a-71891e153548",
   "metadata": {},
   "outputs": [],
   "source": []
  },
  {
   "cell_type": "code",
   "execution_count": null,
   "id": "8d3914e3-498e-416e-ac05-f6f5056a3410",
   "metadata": {},
   "outputs": [],
   "source": []
  }
 ],
 "metadata": {
  "kernelspec": {
   "display_name": "Python 3 (ipykernel)",
   "language": "python",
   "name": "python3"
  },
  "language_info": {
   "codemirror_mode": {
    "name": "ipython",
    "version": 3
   },
   "file_extension": ".py",
   "mimetype": "text/x-python",
   "name": "python",
   "nbconvert_exporter": "python",
   "pygments_lexer": "ipython3",
   "version": "3.8.12"
  }
 },
 "nbformat": 4,
 "nbformat_minor": 5
}
