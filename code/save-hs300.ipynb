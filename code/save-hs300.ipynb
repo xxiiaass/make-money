{
 "cells": [
  {
   "cell_type": "code",
   "execution_count": 3,
   "id": "7d5d8c42-d91d-4eb0-9670-aa37206f8bfe",
   "metadata": {},
   "outputs": [
    {
     "name": "stdout",
     "output_type": "stream",
     "text": [
      "login success!\n",
      "logout success!\n"
     ]
    },
    {
     "data": {
      "text/plain": [
       "<baostock.data.resultset.ResultData at 0x7fffad8a95e0>"
      ]
     },
     "execution_count": 3,
     "metadata": {},
     "output_type": "execute_result"
    }
   ],
   "source": [
    "import baostock as bs\n",
    "import pandas as pd\n",
    "import os\n",
    "from datetime import datetime, timedelta\n",
    "import akshare as ak\n",
    "\n",
    "# 初始化baostock\n",
    "bs.login()\n",
    "\n",
    "# 定义时间范围\n",
    "start_date = '2008-01-01'\n",
    "end_date = '2024-10-31'\n",
    "\n",
    "# 获取每个月的第一个交易日和最后一个交易日\n",
    "def get_monthly_trading_days(start_date, end_date):\n",
    "    df = ak.stock_zh_a_daily(symbol=\"sz000001\", start_date=start_date, end_date=end_date, adjust=\"qfq\")\n",
    "    df['date'] = pd.to_datetime(df['date'])\n",
    "    df.set_index('date', inplace=True)\n",
    "    \n",
    "    monthly_trading_days = {}\n",
    "    for year_month, group in df.groupby([df.index.year, df.index.month]):\n",
    "        first_trading_day = group.index.min().strftime('%Y-%m-%d')\n",
    "        last_trading_day = group.index.max().strftime('%Y-%m-%d')\n",
    "        monthly_trading_days[first_trading_day] = (first_trading_day, last_trading_day)\n",
    "    \n",
    "    return monthly_trading_days\n",
    "\n",
    "# 获取每个月初的沪深300成分股列表\n",
    "def get_monthly_hs300_stocks(monthly_trading_days):\n",
    "    monthly_hs300_stocks = {}\n",
    "    \n",
    "    for first_trading_day in monthly_trading_days.keys():\n",
    "        if first_trading_day not in monthly_hs300_stocks:\n",
    "            rs = bs.query_hs300_stocks(first_trading_day)\n",
    "            hs300_stocks = []\n",
    "            while (rs.error_code == '0') & rs.next():\n",
    "                hs300_stocks.append(rs.get_row_data()[1])\n",
    "            monthly_hs300_stocks[first_trading_day] = hs300_stocks\n",
    "    \n",
    "    return monthly_hs300_stocks\n",
    "\n",
    "# 保存成分股数据到本地\n",
    "def save_hs300_stocks_to_local(monthly_hs300_stocks, directory='hs300_stocks'):\n",
    "    if not os.path.exists(directory):\n",
    "        os.makedirs(directory)\n",
    "    \n",
    "    for date, stocks in monthly_hs300_stocks.items():\n",
    "        file_path = os.path.join(directory, f'hs300_stocks_{date}.csv')\n",
    "        df = pd.DataFrame(stocks, columns=['stock_code'])\n",
    "        df.to_csv(file_path, index=False)\n",
    "\n",
    "# 获取每个月的第一个交易日和最后一个交易日\n",
    "monthly_trading_days = get_monthly_trading_days(start_date, end_date)\n",
    "\n",
    "# 获取每个月初的沪深300成分股列表\n",
    "monthly_hs300_stocks = get_monthly_hs300_stocks(monthly_trading_days)\n",
    "\n",
    "# 保存成分股数据到本地\n",
    "save_hs300_stocks_to_local(monthly_hs300_stocks)\n",
    "\n",
    "# 退出baostock\n",
    "bs.logout()"
   ]
  },
  {
   "cell_type": "code",
   "execution_count": null,
   "id": "c42a9ef0-de7e-4360-9cb5-aeeb6947e537",
   "metadata": {},
   "outputs": [],
   "source": []
  }
 ],
 "metadata": {
  "kernelspec": {
   "display_name": "Python 3 (ipykernel)",
   "language": "python",
   "name": "python3"
  },
  "language_info": {
   "codemirror_mode": {
    "name": "ipython",
    "version": 3
   },
   "file_extension": ".py",
   "mimetype": "text/x-python",
   "name": "python",
   "nbconvert_exporter": "python",
   "pygments_lexer": "ipython3",
   "version": "3.8.12"
  }
 },
 "nbformat": 4,
 "nbformat_minor": 5
}
