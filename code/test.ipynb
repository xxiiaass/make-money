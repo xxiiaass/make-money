{
 "cells": [
  {
   "cell_type": "code",
   "execution_count": null,
   "id": "afea218e-001f-4a10-8647-655069723a1a",
   "metadata": {},
   "outputs": [
    {
     "name": "stdout",
     "output_type": "stream",
     "text": [
      "              日期    股票代码     开盘     收盘     最高     最低      成交量           成交额  \\\n",
      "0     2017-03-01  000001   9.49   9.49   9.55   9.47   346994  3.301580e+08   \n",
      "1     2017-03-02  000001   9.51   9.43   9.54   9.42   403629  3.823959e+08   \n",
      "2     2017-03-03  000001   9.41   9.40   9.43   9.36   342655  3.219525e+08   \n",
      "3     2017-03-06  000001   9.40   9.45   9.46   9.39   404511  3.812123e+08   \n",
      "4     2017-03-07  000001   9.44   9.45   9.46   9.40   294673  2.777474e+08   \n",
      "...          ...     ...    ...    ...    ...    ...      ...           ...   \n",
      "1755  2024-05-22  000001  11.56  11.56  11.74  11.46  2115531  2.458449e+09   \n",
      "1756  2024-05-23  000001  11.53  11.40  11.59  11.37  1841623  2.110799e+09   \n",
      "1757  2024-05-24  000001  11.37  11.31  11.49  11.30  1398276  1.593330e+09   \n",
      "1758  2024-05-27  000001  11.31  11.51  11.53  11.31  1454361  1.663272e+09   \n",
      "1759  2024-05-28  000001  11.50  11.40  11.58  11.36  1204323  1.377107e+09   \n",
      "\n",
      "        振幅   涨跌幅   涨跌额   换手率  \n",
      "0     0.84  0.11  0.01  0.21  \n",
      "1     1.26 -0.63 -0.06  0.24  \n",
      "2     0.74 -0.32 -0.03  0.20  \n",
      "3     0.74  0.53  0.05  0.24  \n",
      "4     0.63  0.00  0.00  0.17  \n",
      "...    ...   ...   ...   ...  \n",
      "1755  2.42  0.09  0.01  1.09  \n",
      "1756  1.90 -1.38 -0.16  0.95  \n",
      "1757  1.67 -0.79 -0.09  0.72  \n",
      "1758  1.95  1.77  0.20  0.75  \n",
      "1759  1.91 -0.96 -0.11  0.62  \n",
      "\n",
      "[1760 rows x 12 columns]\n"
     ]
    }
   ],
   "source": [
    "import os\n",
    "import pandas as pd\n",
    "import akshare as ak\n",
    "\n",
    "start_date = '2008-01-01'\n",
    "end_date = '2024-10-31'\n",
    "\n",
    "# 定义目录路径\n",
    "hs300_directory = 'hs300_stocks'\n",
    "amount_directory = 'stock_amount'\n",
    "market_value_directory = 'stock_market_value'\n",
    "\n",
    "# 创建保存数据的文件夹\n",
    "if not os.path.exists(amount_directory):\n",
    "    os.makedirs(amount_directory)\n",
    "if not os.path.exists(market_value_directory):\n",
    "    os.makedirs(market_value_directory)\n",
    "\n",
    "# 读取所有沪深300成分股数据并去重\n",
    "all_stocks = set()\n",
    "for file_name in os.listdir(hs300_directory):\n",
    "    file_path = os.path.join(hs300_directory, file_name)\n",
    "    df = pd.read_csv(file_path)\n",
    "    all_stocks.update(df['stock_code'].tolist())\n",
    "\n",
    "# 获取每只股票的历史成交金额和历史总市值数据并保存到文件\n",
    "count = 0\n",
    "max_stocks = 2  # 只处理10只股票\n",
    "\n",
    "for stock in all_stocks:\n",
    "    if count >= max_stocks:\n",
    "        break\n",
    "    try:\n",
    "        # 移除股票代码中的前缀\n",
    "        stock_code = stock[3:]\n",
    "        \n",
    "        # 获取历史成交金额数据\n",
    "        amount_df = ak.stock_zh_a_hist(symbol=stock_code, start_date=start_date, end_date=end_date, adjust=\"qfq\")\n",
    "        print(amount_df)\n",
    "        print(f'Successfully saved data for stock: {stock}')\n",
    "        count += 1\n",
    "    except Exception as e:\n",
    "        print(f'Failed to get data for stock: {stock}, error: {e}')"
   ]
  },
  {
   "cell_type": "code",
   "execution_count": null,
   "id": "485b6ff0-bf04-43b0-bae1-f7df7d494905",
   "metadata": {},
   "outputs": [],
   "source": []
  },
  {
   "cell_type": "code",
   "execution_count": null,
   "id": "aaf0bafc-f211-4034-ad5a-71891e153548",
   "metadata": {},
   "outputs": [],
   "source": []
  },
  {
   "cell_type": "code",
   "execution_count": null,
   "id": "8d3914e3-498e-416e-ac05-f6f5056a3410",
   "metadata": {},
   "outputs": [],
   "source": []
  }
 ],
 "metadata": {
  "kernelspec": {
   "display_name": "Python 3 (ipykernel)",
   "language": "python",
   "name": "python3"
  },
  "language_info": {
   "codemirror_mode": {
    "name": "ipython",
    "version": 3
   },
   "file_extension": ".py",
   "mimetype": "text/x-python",
   "name": "python",
   "nbconvert_exporter": "python",
   "pygments_lexer": "ipython3",
   "version": "3.8.12"
  }
 },
 "nbformat": 4,
 "nbformat_minor": 5
}
